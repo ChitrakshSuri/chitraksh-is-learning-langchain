{
 "cells": [
  {
   "cell_type": "code",
   "execution_count": 29,
   "id": "243da331",
   "metadata": {},
   "outputs": [],
   "source": [
    "import random \n",
    "\n",
    "class NakliLLM:\n",
    "    def __init__(self):\n",
    "        print('LLM Created')\n",
    "    \n",
    "    def predict(self, prompt):\n",
    "\n",
    "        responseList = [\n",
    "            'Delhi is the capital of india',\n",
    "            'IPL is a cricket league',\n",
    "            'AI stands for Artificial Intelligence'\n",
    "        ]\n",
    "        return {'response': random.choice(responseList)}"
   ]
  },
  {
   "cell_type": "code",
   "execution_count": 30,
   "id": "cfebcbce",
   "metadata": {},
   "outputs": [
    {
     "name": "stdout",
     "output_type": "stream",
     "text": [
      "LLM Created\n"
     ]
    }
   ],
   "source": [
    "llm = NakliLLM()"
   ]
  },
  {
   "cell_type": "code",
   "execution_count": 31,
   "id": "1a6c9ade",
   "metadata": {},
   "outputs": [
    {
     "data": {
      "text/plain": [
       "{'response': 'Delhi is the capital of india'}"
      ]
     },
     "execution_count": 31,
     "metadata": {},
     "output_type": "execute_result"
    }
   ],
   "source": [
    "llm.predict('What is the capital of India?')"
   ]
  },
  {
   "cell_type": "code",
   "execution_count": 32,
   "id": "452a0191",
   "metadata": {},
   "outputs": [],
   "source": [
    "class NakliPromptTemplate:\n",
    "    def __init__(self, template ,input_variable):\n",
    "        self.template = template\n",
    "        self.input_variable = input_variable\n",
    "\n",
    "    def format(self, input_dict):\n",
    "        return self.template.format(**input_dict)"
   ]
  },
  {
   "cell_type": "code",
   "execution_count": 33,
   "id": "8a6cd758",
   "metadata": {},
   "outputs": [],
   "source": [
    "template = NakliPromptTemplate(\n",
    "    template='Write a {length} poem about {topic}',\n",
    "    input_variable=['length', 'topic']\n",
    ")"
   ]
  },
  {
   "cell_type": "code",
   "execution_count": 34,
   "id": "a44a6104",
   "metadata": {},
   "outputs": [],
   "source": [
    "prompt = template.format({'length':'short', 'topic':'india'})"
   ]
  },
  {
   "cell_type": "code",
   "execution_count": 35,
   "id": "6cb38f72",
   "metadata": {},
   "outputs": [
    {
     "name": "stdout",
     "output_type": "stream",
     "text": [
      "LLM Created\n"
     ]
    }
   ],
   "source": [
    "llm = NakliLLM()"
   ]
  },
  {
   "cell_type": "code",
   "execution_count": 36,
   "id": "32e8f9f2",
   "metadata": {},
   "outputs": [
    {
     "data": {
      "text/plain": [
       "{'response': 'IPL is a cricket league'}"
      ]
     },
     "execution_count": 36,
     "metadata": {},
     "output_type": "execute_result"
    }
   ],
   "source": [
    "llm.predict(prompt)"
   ]
  },
  {
   "cell_type": "code",
   "execution_count": 37,
   "id": "ffb63927",
   "metadata": {},
   "outputs": [],
   "source": [
    "class NakliLLMChain:\n",
    "    def __init__(self, llm, prompt):\n",
    "        self.llm = llm\n",
    "        self.prompt = prompt\n",
    "    \n",
    "    def run(self, input_dict):\n",
    "        final_prompt = self.prompt.format(input_dict)\n",
    "        result = self.llm.predict(final_prompt)\n",
    "\n",
    "        return result['response']"
   ]
  },
  {
   "cell_type": "code",
   "execution_count": 38,
   "id": "a934edd2",
   "metadata": {},
   "outputs": [],
   "source": [
    "template = NakliPromptTemplate(\n",
    "    template='Write a {length} poem about {topic}',\n",
    "    input_variable=['length', 'topic']\n",
    ")"
   ]
  },
  {
   "cell_type": "code",
   "execution_count": 39,
   "id": "acc61413",
   "metadata": {},
   "outputs": [
    {
     "name": "stdout",
     "output_type": "stream",
     "text": [
      "LLM Created\n"
     ]
    }
   ],
   "source": [
    "llm = NakliLLM()"
   ]
  },
  {
   "cell_type": "code",
   "execution_count": 40,
   "id": "083ce846",
   "metadata": {},
   "outputs": [],
   "source": [
    "chian = NakliLLMChain(llm, template)"
   ]
  },
  {
   "cell_type": "code",
   "execution_count": 42,
   "id": "5058346c",
   "metadata": {},
   "outputs": [
    {
     "data": {
      "text/plain": [
       "'IPL is a cricket league'"
      ]
     },
     "execution_count": 42,
     "metadata": {},
     "output_type": "execute_result"
    }
   ],
   "source": [
    "chian.run({'length':'short', 'topic':'india'})"
   ]
  }
 ],
 "metadata": {
  "kernelspec": {
   "display_name": "venv",
   "language": "python",
   "name": "python3"
  },
  "language_info": {
   "codemirror_mode": {
    "name": "ipython",
    "version": 3
   },
   "file_extension": ".py",
   "mimetype": "text/x-python",
   "name": "python",
   "nbconvert_exporter": "python",
   "pygments_lexer": "ipython3",
   "version": "3.11.5"
  }
 },
 "nbformat": 4,
 "nbformat_minor": 5
}
